{
 "cells": [
  {
   "cell_type": "code",
   "execution_count": 39,
   "metadata": {},
   "outputs": [],
   "source": [
    "import sys\n",
    "import OptimalTouring as Game\n",
    "import numpy as np\n",
    "from matplotlib import pyplot as plt\n",
    "from scipy.optimize import linear_sum_assignment\n",
    "import time\n",
    "\n",
    "x = Game.OptimalTouring(\"test.txt\")"
   ]
  },
  {
   "cell_type": "code",
   "execution_count": 40,
   "metadata": {},
   "outputs": [],
   "source": [
    "addresses = []\n",
    "time_value = []\n",
    "days = []"
   ]
  },
  {
   "cell_type": "code",
   "execution_count": 41,
   "metadata": {},
   "outputs": [],
   "source": [
    "sites = x.getSites().copy()\n",
    "efficiencies = []\n",
    "for i in range(len(sites)):\n",
    "    site = sites[i]\n",
    "    addresses.append(site[:2])\n",
    "    time_value.append(site[2:4])\n",
    "    days.append(site[4])\n",
    "\n",
    "    efficiency = site[3]/site[2]\n",
    "    efficiencies.append(efficiency)"
   ]
  },
  {
   "cell_type": "code",
   "execution_count": 42,
   "metadata": {},
   "outputs": [],
   "source": [
    "addresses = np.array(addresses)\n",
    "time_value = np.array(time_value)\n",
    "days = np.array(days)\n",
    "efficiencies = np.array(efficiencies)"
   ]
  },
  {
   "cell_type": "code",
   "execution_count": 43,
   "metadata": {},
   "outputs": [
    {
     "data": {
      "text/plain": [
       "((200, 2), (200, 10, 2))"
      ]
     },
     "execution_count": 43,
     "metadata": {},
     "output_type": "execute_result"
    }
   ],
   "source": [
    "time_value.shape, days.shape"
   ]
  },
  {
   "cell_type": "code",
   "execution_count": 44,
   "metadata": {},
   "outputs": [
    {
     "data": {
      "text/plain": [
       "array([[   0,    0],\n",
       "       [   0,    0],\n",
       "       [   0,    0],\n",
       "       [ 480,  960],\n",
       "       [ 420, 1080],\n",
       "       [ 480, 1380],\n",
       "       [ 600, 1200],\n",
       "       [ 600, 1320],\n",
       "       [ 600, 1380],\n",
       "       [   0,    0]])"
      ]
     },
     "execution_count": 44,
     "metadata": {},
     "output_type": "execute_result"
    }
   ],
   "source": [
    "days[121]"
   ]
  },
  {
   "cell_type": "code",
   "execution_count": 45,
   "metadata": {},
   "outputs": [
    {
     "data": {
      "text/plain": [
       "array([171, 119,  33, 147, 194, 169,  78,  89,  92, 155,  62,  23, 134,\n",
       "       153, 118, 145, 177,  50, 130,  40, 181,  77,  26,  20,  11, 163,\n",
       "        31, 148, 108,  34, 199,  83, 137, 127,   6,  32, 162,  48,  51,\n",
       "        87,  14, 102, 179, 173,  74,  60, 197,  46, 117, 112, 139, 135,\n",
       "       109, 103,  45, 114,  58,  52,  79,  64, 191, 122,  17,  24,   4,\n",
       "        42,   2, 190, 115, 101,   9,  97,  38, 116, 142,  94, 140,  69,\n",
       "        39, 132, 104, 123,  70,  55, 107,  12, 141, 156,  22, 187, 165,\n",
       "        66, 124,  68, 175, 166, 111,  93,  57, 188, 106, 154, 180,  95,\n",
       "        36,  90, 160,  30,  99, 159, 126, 150, 195, 164, 152,  71,  59,\n",
       "        91,  88, 110,  44,  75,  67, 157, 146,  81,  18,   3, 131,  86,\n",
       "       193,  21, 136,  10,  35, 149,  85,  80,  98, 138,  96, 183, 184,\n",
       "       176, 198, 128, 133,  63, 105,  53,  49,  43, 170,  29,  72,  19,\n",
       "       168,  56,  15, 144,  76, 182, 100, 129,  28, 143,  16, 158, 189,\n",
       "         5,  13, 121,  84, 192, 196, 113,   1, 185, 167,  61,  47,  73,\n",
       "        41,  27, 186,  65, 161,   8, 178,   0,  37,  82, 120,  54, 125,\n",
       "       174,   7, 172, 151,  25])"
      ]
     },
     "execution_count": 45,
     "metadata": {},
     "output_type": "execute_result"
    }
   ],
   "source": [
    "order = np.flip(np.argsort(efficiencies))\n",
    "order"
   ]
  },
  {
   "cell_type": "code",
   "execution_count": 8,
   "metadata": {},
   "outputs": [
    {
     "data": {
      "text/plain": [
       "array([[ 360,  780],\n",
       "       [ 300, 1020],\n",
       "       [ 240, 1200],\n",
       "       [ 120,  960],\n",
       "       [ 240, 1080],\n",
       "       [ 240,  720],\n",
       "       [ 480,  960],\n",
       "       [   0,    0],\n",
       "       [   0,    0],\n",
       "       [   0,    0]])"
      ]
     },
     "execution_count": 8,
     "metadata": {},
     "output_type": "execute_result"
    }
   ],
   "source": [
    "days[0]"
   ]
  },
  {
   "cell_type": "markdown",
   "metadata": {},
   "source": [
    "## K-Means Clustering"
   ]
  },
  {
   "cell_type": "code",
   "execution_count": 46,
   "metadata": {},
   "outputs": [],
   "source": [
    "k = x.getDay()"
   ]
  },
  {
   "cell_type": "code",
   "execution_count": 47,
   "metadata": {},
   "outputs": [
    {
     "data": {
      "text/plain": [
       "array([[ 11,  25],\n",
       "       [ 91, 123],\n",
       "       [ 45, 130],\n",
       "       [150, 134],\n",
       "       [130,  11],\n",
       "       [119,  12],\n",
       "       [127,  38],\n",
       "       [ 41,  61],\n",
       "       [ 60, 196],\n",
       "       [189,  23]])"
      ]
     },
     "execution_count": 47,
     "metadata": {},
     "output_type": "execute_result"
    }
   ],
   "source": [
    "addresses[order[:k]]"
   ]
  },
  {
   "cell_type": "code",
   "execution_count": 48,
   "metadata": {},
   "outputs": [
    {
     "data": {
      "image/png": "[encoded data removed]",
      "text/plain": [
       "<Figure size 432x288 with 1 Axes>"
      ]
     },
     "metadata": {
      "needs_background": "light"
     },
     "output_type": "display_data"
    }
   ],
   "source": [
    "plt.scatter(addresses[:,0], addresses[:,1],s=efficiencies*10, c=efficiencies, cmap='viridis')\n",
    "plt.show()"
   ]
  },
  {
   "cell_type": "markdown",
   "metadata": {},
   "source": [
    "### Naive K-Means"
   ]
  },
  {
   "cell_type": "code",
   "execution_count": 11,
   "metadata": {},
   "outputs": [],
   "source": [
    "# simple assignment of sites to centroids\n",
    "centroids = addresses[order[:k]].astype(float)\n",
    "assignments = np.zeros(len(addresses),dtype=int)-1\n",
    "\n",
    "# assignments\n",
    "for i in range(len(addresses)):\n",
    "    distances = []\n",
    "    for j in range(len(centroids)):\n",
    "        distances.append(np.linalg.norm(addresses[i]-centroids[j],ord=1))\n",
    "    assignments[i] = np.argmin(distances)\n"
   ]
  },
  {
   "cell_type": "code",
   "execution_count": 13,
   "metadata": {},
   "outputs": [],
   "source": [
    "# naive shifting of centroids\n",
    "centroids = addresses[order[:k]].astype(float)\n",
    "assignments = np.zeros(len(addresses),dtype=int)-1\n",
    "converged = False\n",
    "count = 1\n",
    "while not converged:\n",
    "    converged = True\n",
    "    # assignments\n",
    "    for i in range(len(addresses)):\n",
    "        distances = []\n",
    "        for j in range(len(centroids)):\n",
    "            distances.append(np.linalg.norm(addresses[i]-centroids[j],ord=1))\n",
    "        if assignments[i] != np.argmin(distances):\n",
    "            converged = False\n",
    "            assignments[i] = np.argmin(distances)\n",
    "\n",
    "    # centroids shifting\n",
    "    for j in range(len(centroids)):\n",
    "        centroids[j] = np.mean(addresses[assignments==j],axis=0)\n",
    "    # print(count,centroids)\n",
    "    count += 1"
   ]
  },
  {
   "cell_type": "code",
   "execution_count": 15,
   "metadata": {},
   "outputs": [],
   "source": [
    "# incorporate time value as weights\n",
    "centroids = addresses[order[:k]].astype(float)\n",
    "assignments = np.zeros(len(addresses),dtype=int)-1\n",
    "converged = False\n",
    "count = 1\n",
    "while not converged:\n",
    "    converged = True\n",
    "    # assignments\n",
    "    for i in range(len(addresses)):\n",
    "        distances = []\n",
    "        for j in range(len(centroids)):\n",
    "            distances.append(np.linalg.norm(addresses[i]-centroids[j],ord=1))\n",
    "        if assignments[i] != np.argmin(distances):\n",
    "            converged = False\n",
    "            assignments[i] = np.argmin(distances)\n",
    "        \n",
    "\n",
    "    # centroids shifting\n",
    "    for j in range(len(centroids)):\n",
    "        centroids[j] = np.average(addresses[assignments==j],weights=efficiencies[assignments==j],axis=0)\n",
    "    # print(count,centroids)\n",
    "    count += 1"
   ]
  },
  {
   "cell_type": "code",
   "execution_count": 12,
   "metadata": {},
   "outputs": [
    {
     "ename": "NameError",
     "evalue": "name 'assignments' is not defined",
     "output_type": "error",
     "traceback": [
      "\u001b[0;31m---------------------------------------------------------------------------\u001b[0m",
      "\u001b[0;31mNameError\u001b[0m                                 Traceback (most recent call last)",
      "\u001b[0;32m<ipython-input-12-bd7cb8778fad>\u001b[0m in \u001b[0;36m<module>\u001b[0;34m\u001b[0m\n\u001b[1;32m      1\u001b[0m \u001b[0;31m# total value per cluster in 3rd method\u001b[0m\u001b[0;34m\u001b[0m\u001b[0;34m\u001b[0m\u001b[0;34m\u001b[0m\u001b[0m\n\u001b[1;32m      2\u001b[0m \u001b[0;32mfor\u001b[0m \u001b[0mi\u001b[0m \u001b[0;32min\u001b[0m \u001b[0mrange\u001b[0m\u001b[0;34m(\u001b[0m\u001b[0mk\u001b[0m\u001b[0;34m)\u001b[0m\u001b[0;34m:\u001b[0m\u001b[0;34m\u001b[0m\u001b[0;34m\u001b[0m\u001b[0m\n\u001b[0;32m----> 3\u001b[0;31m     \u001b[0mprint\u001b[0m\u001b[0;34m(\u001b[0m\u001b[0mnp\u001b[0m\u001b[0;34m.\u001b[0m\u001b[0msum\u001b[0m\u001b[0;34m(\u001b[0m\u001b[0mtime_value\u001b[0m\u001b[0;34m[\u001b[0m\u001b[0massignments\u001b[0m\u001b[0;34m==\u001b[0m\u001b[0mi\u001b[0m\u001b[0;34m,\u001b[0m\u001b[0;36m1\u001b[0m\u001b[0;34m]\u001b[0m\u001b[0;34m)\u001b[0m\u001b[0;34m)\u001b[0m\u001b[0;34m\u001b[0m\u001b[0;34m\u001b[0m\u001b[0m\n\u001b[0m",
      "\u001b[0;31mNameError\u001b[0m: name 'assignments' is not defined"
     ]
    }
   ],
   "source": [
    "# total value per cluster in 3rd method\n",
    "for i in range(k):\n",
    "    print(np.sum(time_value[assignments==i,1]))"
   ]
  },
  {
   "cell_type": "code",
   "execution_count": 49,
   "metadata": {},
   "outputs": [
    {
     "data": {
      "text/plain": [
       "2237.3535879917886"
      ]
     },
     "execution_count": 49,
     "metadata": {},
     "output_type": "execute_result"
    }
   ],
   "source": [
    "value_per_cluster = np.sum(time_value[:,1])/k\n",
    "value_per_cluster"
   ]
  },
  {
   "cell_type": "code",
   "execution_count": 50,
   "metadata": {},
   "outputs": [],
   "source": [
    "# incorporate value balancing\n",
    "centroids = addresses[order[:k]].astype(float)\n",
    "assignments = np.zeros(len(addresses),dtype=int)-1\n",
    "converged = False\n",
    "count = 1\n",
    "while not converged:\n",
    "    converged = True\n",
    "    value_acc = np.zeros(len(centroids))\n",
    "    available_centroids = np.arange(len(centroids),dtype=int)\n",
    "    # assignments\n",
    "    for i in order:\n",
    "        distances = np.zeros(len(centroids))+np.inf\n",
    "        for j in available_centroids:\n",
    "            distances[j] = np.linalg.norm(addresses[i]-centroids[j],ord=1)\n",
    "        if assignments[i] != np.argmin(distances):\n",
    "            converged = False\n",
    "            assignments[i] = np.argmin(distances)\n",
    "        value_acc[assignments[i]] += time_value[i][1]\n",
    "        if value_acc[assignments[i]] > value_per_cluster:\n",
    "            available_centroids = np.delete(available_centroids,np.argwhere(available_centroids==assignments[i]))\n",
    "        \n",
    "    # centroids shifting\n",
    "    for j in range(len(centroids)):\n",
    "        centroids[j] = np.average(addresses[assignments==j],weights=efficiencies[assignments==j],axis=0)\n",
    "    # print(count,centroids)\n",
    "    count += 1"
   ]
  },
  {
   "cell_type": "code",
   "execution_count": 51,
   "metadata": {},
   "outputs": [
    {
     "name": "stdout",
     "output_type": "stream",
     "text": [
      "1892.5994268728512\n",
      "2247.685615366702\n",
      "2249.232233745215\n",
      "2252.0284427342185\n",
      "2240.9786840127927\n",
      "2257.3964377775887\n",
      "2287.026352753657\n",
      "2299.5447373111438\n",
      "2342.5272902771476\n",
      "2304.5166590665704\n"
     ]
    }
   ],
   "source": [
    "# total value per cluster in 3rd method\n",
    "for i in range(k):\n",
    "    print(np.sum(time_value[assignments==i,1]))"
   ]
  },
  {
   "cell_type": "markdown",
   "metadata": {},
   "source": [
    "### Plots"
   ]
  },
  {
   "cell_type": "code",
   "execution_count": 12,
   "metadata": {},
   "outputs": [
    {
     "data": {
      "image/png": "[encoded data removed]",
      "text/plain": [
       "<Figure size 432x288 with 1 Axes>"
      ]
     },
     "metadata": {
      "needs_background": "light"
     },
     "output_type": "display_data"
    }
   ],
   "source": [
    "# clustering from simple assignment from initialization\n",
    "plt.scatter(addresses[:,0], addresses[:,1],s=efficiencies*10, c=assignments, cmap='viridis')\n",
    "plt.scatter(centroids[:,0], centroids[:,1],c='red')\n",
    "plt.show()"
   ]
  },
  {
   "cell_type": "code",
   "execution_count": 14,
   "metadata": {},
   "outputs": [
    {
     "data": {
      "image/png": "[encoded data removed]",
      "text/plain": [
       "<Figure size 432x288 with 1 Axes>"
      ]
     },
     "metadata": {
      "needs_background": "light"
     },
     "output_type": "display_data"
    }
   ],
   "source": [
    "# clustering from naive k-means\n",
    "plt.scatter(addresses[:,0], addresses[:,1],s=efficiencies*10, c=assignments, cmap='viridis')\n",
    "plt.scatter(centroids[:,0], centroids[:,1],c='red')\n",
    "plt.show()"
   ]
  },
  {
   "cell_type": "code",
   "execution_count": 16,
   "metadata": {},
   "outputs": [
    {
     "data": {
      "image/png": "[encoded data removed]",
      "text/plain": [
       "<Figure size 432x288 with 1 Axes>"
      ]
     },
     "metadata": {
      "needs_background": "light"
     },
     "output_type": "display_data"
    }
   ],
   "source": [
    "# clustering from k-means with value/time as weights\n",
    "plt.scatter(addresses[:,0], addresses[:,1],s=efficiencies*10, c=assignments, cmap='viridis')\n",
    "plt.scatter(centroids[:,0], centroids[:,1],c='red')\n",
    "plt.show()"
   ]
  },
  {
   "cell_type": "code",
   "execution_count": 21,
   "metadata": {},
   "outputs": [
    {
     "data": {
      "image/png": "[encoded data removed]",
      "text/plain": [
       "<Figure size 432x288 with 1 Axes>"
      ]
     },
     "metadata": {
      "needs_background": "light"
     },
     "output_type": "display_data"
    }
   ],
   "source": [
    "# weight balancing\n",
    "plt.scatter(addresses[:,0], addresses[:,1],s=efficiencies*10, c=assignments, cmap='viridis')\n",
    "plt.scatter(centroids[:,0], centroids[:,1],c='red')\n",
    "plt.show()"
   ]
  },
  {
   "cell_type": "markdown",
   "metadata": {},
   "source": [
    "## Cluster-Day Assignment"
   ]
  },
  {
   "cell_type": "code",
   "execution_count": 52,
   "metadata": {},
   "outputs": [],
   "source": [
    "cluster_orders = []\n",
    "for i in range(k):\n",
    "    cluster_orders.append(np.flip(np.argsort(efficiencies[assignments==i])))"
   ]
  },
  {
   "cell_type": "code",
   "execution_count": 53,
   "metadata": {},
   "outputs": [],
   "source": [
    "# method to calcalate value of a cluster in a day, for cluster assignment to days\n",
    "def day_cluster_value(day,cluster):\n",
    "    # print(cluster_orders[cluster])\n",
    "    open_hours = days[assignments==cluster][cluster_orders[cluster]][:,day,:]\n",
    "    time_needed = time_value[assignments==cluster][cluster_orders[cluster]][:,0]\n",
    "    schedule = np.zeros(1440)-1\n",
    "    value = 0\n",
    "    # print(open_hours,time_needed)\n",
    "    \n",
    "    # allocate places in cluster by iteratively checking, prioritize by efficiency\n",
    "    for i in range(len(open_hours)):\n",
    "        begin,end,leave = open_hours[i,0],open_hours[i,1],time_needed[i].astype(int)\n",
    "        if (end-begin)*60>=leave:\n",
    "            # leave = np.ceil(time/60).astype(int)\n",
    "            # slide window to find available time slot\n",
    "            while begin+leave<=end:\n",
    "                if np.all(schedule[begin:begin+leave]==-1):\n",
    "                    # print(i,begin,begin+leave)\n",
    "                    schedule[begin:begin+leave] = cluster_orders[cluster][i]\n",
    "                    value += time_value[assignments==cluster][cluster_orders[cluster][i],1]\n",
    "                    break\n",
    "                begin += 1\n",
    "    # print(schedule[120:1200])\n",
    "    return value"
   ]
  },
  {
   "cell_type": "code",
   "execution_count": 54,
   "metadata": {},
   "outputs": [
    {
     "data": {
      "text/plain": [
       "596.7789579726391"
      ]
     },
     "execution_count": 54,
     "metadata": {},
     "output_type": "execute_result"
    }
   ],
   "source": [
    "day_cluster_value(0,0)"
   ]
  },
  {
   "cell_type": "code",
   "execution_count": 55,
   "metadata": {},
   "outputs": [
    {
     "data": {
      "text/plain": [
       "array([[ 596.77895797, 1003.02784786, 1291.24464695,  817.78184214,\n",
       "         696.02775874,  878.23991997, 1279.57012938, 1167.68298148,\n",
       "         812.45886315,  931.33799562],\n",
       "       [ 492.46334401, 1063.44648901, 1006.55056532,  714.46987826,\n",
       "         805.73843265, 1152.05404612, 1190.70544075, 1020.60819536,\n",
       "         853.31778913, 1006.11667375],\n",
       "       [ 585.12406509,  954.03292451, 1020.03881421, 1073.60496898,\n",
       "         725.96857456,  846.07049531,  943.59634098,  900.35723769,\n",
       "         921.58247912, 1136.14057134],\n",
       "       [ 912.2265686 , 1026.2074374 , 1006.92082113, 1029.19397586,\n",
       "         881.3752171 ,  797.52253414, 1241.26541304, 1123.79765081,\n",
       "         746.49793472,  804.72230918],\n",
       "       [ 769.74422904,  912.61091185,  740.68978507,  855.84865792,\n",
       "         783.47538056,  721.4974062 , 1060.97101562, 1139.95154193,\n",
       "         988.15006249, 1106.21244034],\n",
       "       [ 685.05284665, 1268.89728094,  966.96909376,  980.37899282,\n",
       "         861.25956745,  810.35982473, 1152.85604966,  861.78895968,\n",
       "         994.96748606, 1070.42218604],\n",
       "       [ 718.88652327, 1004.52113265, 1225.7094477 ,  823.02674064,\n",
       "        1088.27955476,  665.90703107,  930.21384351,  836.17514586,\n",
       "         842.71852494, 1071.54086097],\n",
       "       [ 775.53004006, 1176.65782149, 1168.95306122,  623.23947921,\n",
       "         848.07486386,  926.17312172, 1268.33070185, 1050.57062043,\n",
       "         736.16756768,  916.5371821 ],\n",
       "       [ 713.76723922, 1075.56675937,  888.19884571,  794.91898168,\n",
       "         878.02980747,  769.51650111, 1176.38034639, 1053.7972495 ,\n",
       "         982.70817812, 1120.21628312],\n",
       "       [ 820.67769181, 1224.34727138,  850.5169296 ,  882.83616627,\n",
       "        1012.60683692, 1028.96734369,  708.05199134,  930.27597458,\n",
       "        1022.17350393,  800.50317809]])"
      ]
     },
     "execution_count": 55,
     "metadata": {},
     "output_type": "execute_result"
    }
   ],
   "source": [
    "day_cluster_values = np.zeros((k,k))\n",
    "for i in range(k):\n",
    "    for j in range(k):\n",
    "        day_cluster_values[i,j] = day_cluster_value(i,j) # day i, cluster j\n",
    "day_cluster_values"
   ]
  },
  {
   "cell_type": "code",
   "execution_count": 56,
   "metadata": {},
   "outputs": [],
   "source": [
    "row_ind, col_ind = linear_sum_assignment(day_cluster_values, maximize = True)"
   ]
  },
  {
   "cell_type": "code",
   "execution_count": 57,
   "metadata": {},
   "outputs": [
    {
     "data": {
      "text/plain": [
       "(array([0, 1, 2, 3, 4, 5, 6, 7, 8, 9]), array([2, 5, 3, 0, 7, 1, 4, 6, 9, 8]))"
      ]
     },
     "execution_count": 57,
     "metadata": {},
     "output_type": "execute_result"
    }
   ],
   "source": [
    "row_ind,col_ind"
   ]
  },
  {
   "cell_type": "code",
   "execution_count": 58,
   "metadata": {},
   "outputs": [
    {
     "data": {
      "text/plain": [
       "(array([1291.24464695, 1152.05404612, 1073.60496898,  912.2265686 ,\n",
       "        1139.95154193, 1268.89728094, 1088.27955476, 1268.33070185,\n",
       "        1120.21628312, 1022.17350393]),\n",
       " 11336.979097167841)"
      ]
     },
     "execution_count": 58,
     "metadata": {},
     "output_type": "execute_result"
    }
   ],
   "source": [
    "selected_elements = day_cluster_values[row_ind, col_ind]\n",
    "selected_elements, selected_elements.sum()"
   ]
  },
  {
   "cell_type": "code",
   "execution_count": 59,
   "metadata": {},
   "outputs": [
    {
     "data": {
      "text/plain": [
       "array([2, 5, 3, 0, 7, 1, 4, 6, 9, 8])"
      ]
     },
     "execution_count": 59,
     "metadata": {},
     "output_type": "execute_result"
    }
   ],
   "source": [
    "day_cluster_assignment = col_ind\n",
    "day_cluster_assignment"
   ]
  },
  {
   "cell_type": "code",
   "execution_count": 60,
   "metadata": {},
   "outputs": [
    {
     "data": {
      "text/plain": [
       "array([3, 4, 9, 7, 2, 0, 7, 0, 3, 3, 7, 6, 1, 4, 8, 7, 3, 2, 8, 5, 7, 8,\n",
       "       2, 6, 5, 0, 9, 3, 4, 8, 9, 4, 1, 2, 1, 9, 9, 3, 3, 7, 9, 3, 1, 5,\n",
       "       8, 4, 9, 3, 7, 8, 2, 2, 9, 8, 0, 0, 3, 7, 3, 5, 5, 3, 3, 8, 2, 0,\n",
       "       4, 6, 0, 1, 1, 8, 7, 3, 2, 4, 0, 1, 6, 9, 0, 9, 0, 6, 3, 1, 5, 1,\n",
       "       1, 7, 9, 7, 8, 9, 6, 2, 8, 9, 8, 0, 3, 6, 4, 6, 3, 7, 4, 2, 5, 7,\n",
       "       7, 5, 4, 3, 8, 8, 5, 7, 9, 1, 0, 0, 8, 7, 3, 0, 3, 5, 1, 4, 2, 7,\n",
       "       2, 5, 4, 6, 4, 7, 3, 3, 7, 5, 0, 7, 3, 4, 5, 3, 0, 8, 5, 0, 4, 1,\n",
       "       9, 9, 6, 8, 0, 2, 5, 0, 0, 6, 0, 6, 1, 0, 7, 6, 5, 0, 0, 5, 0, 1,\n",
       "       4, 2, 3, 5, 1, 8, 4, 8, 5, 4, 0, 2, 2, 4, 3, 9, 4, 5, 6, 6, 4, 0,\n",
       "       4, 9])"
      ]
     },
     "execution_count": 60,
     "metadata": {},
     "output_type": "execute_result"
    }
   ],
   "source": [
    "assignments"
   ]
  },
  {
   "cell_type": "code",
   "execution_count": 37,
   "metadata": {},
   "outputs": [],
   "source": [
    "def cluster_for_day(day):\n",
    "    return np.argwhere(assignments == day_cluster_assignment[day])"
   ]
  },
  {
   "cell_type": "code",
   "execution_count": 38,
   "metadata": {},
   "outputs": [
    {
     "data": {
      "text/plain": [
       "array([  1,   4,   8,  10,  14,  15,  26,  32,  71,  72,  76,  81,  89,\n",
       "        97, 118, 132, 141])"
      ]
     },
     "execution_count": 38,
     "metadata": {},
     "output_type": "execute_result"
    }
   ],
   "source": [
    "cluster_for_day(0).flatten()"
   ]
  },
  {
   "cell_type": "markdown",
   "metadata": {},
   "source": [
    "### Not Used"
   ]
  },
  {
   "cell_type": "code",
   "execution_count": 39,
   "metadata": {},
   "outputs": [
    {
     "data": {
      "text/plain": [
       "array([[0.14265465, 0.13640761, 0.13812155, 0.15052296, 0.13454853,\n",
       "        0.13833393, 0.14343153],\n",
       "       [0.14731194, 0.14360959, 0.15442442, 0.15131878, 0.14948793,\n",
       "        0.11996076, 0.14006728],\n",
       "       [0.1481219 , 0.15478878, 0.14020469, 0.11618918, 0.17044067,\n",
       "        0.14636104, 0.14006728],\n",
       "       [0.15288043, 0.13952488, 0.13486097, 0.15575261, 0.12496477,\n",
       "        0.14359615, 0.13473373],\n",
       "       [0.1405285 , 0.14092228, 0.14301241, 0.15575261, 0.14394438,\n",
       "        0.14636104, 0.1465496 ],\n",
       "       [0.1394148 , 0.13468774, 0.14129155, 0.12653479, 0.1586019 ,\n",
       "        0.15358544, 0.14589316],\n",
       "       [0.12908778, 0.15005912, 0.14808441, 0.14392906, 0.11801184,\n",
       "        0.15180164, 0.14925741]])"
      ]
     },
     "execution_count": 39,
     "metadata": {},
     "output_type": "execute_result"
    }
   ],
   "source": [
    "cluster_ratios = day_cluster_values/np.sum(day_cluster_values, axis=0, keepdims=True)\n",
    "cluster_ratios"
   ]
  },
  {
   "cell_type": "code",
   "execution_count": 40,
   "metadata": {},
   "outputs": [
    {
     "name": "stdout",
     "output_type": "stream",
     "text": [
      "[[0.14265465 0.13640761 0.13812155 0.15052296 0.         0.13833393\n",
      "  0.14343153]\n",
      " [0.14731194 0.14360959 0.15442442 0.15131878 0.         0.11996076\n",
      "  0.14006728]\n",
      " [0.         0.         0.         0.         0.         0.\n",
      "  0.        ]\n",
      " [0.15288043 0.13952488 0.13486097 0.15575261 0.         0.14359615\n",
      "  0.13473373]\n",
      " [0.1405285  0.14092228 0.14301241 0.15575261 0.         0.14636104\n",
      "  0.1465496 ]\n",
      " [0.1394148  0.13468774 0.14129155 0.12653479 0.         0.15358544\n",
      "  0.14589316]\n",
      " [0.12908778 0.15005912 0.14808441 0.14392906 0.         0.15180164\n",
      "  0.14925741]]\n",
      "\n",
      "[[0.14265465 0.13640761 0.13812155 0.         0.         0.13833393\n",
      "  0.14343153]\n",
      " [0.14731194 0.14360959 0.15442442 0.         0.         0.11996076\n",
      "  0.14006728]\n",
      " [0.         0.         0.         0.         0.         0.\n",
      "  0.        ]\n",
      " [0.         0.         0.         0.         0.         0.\n",
      "  0.        ]\n",
      " [0.1405285  0.14092228 0.14301241 0.         0.         0.14636104\n",
      "  0.1465496 ]\n",
      " [0.1394148  0.13468774 0.14129155 0.         0.         0.15358544\n",
      "  0.14589316]\n",
      " [0.12908778 0.15005912 0.14808441 0.         0.         0.15180164\n",
      "  0.14925741]]\n",
      "\n",
      "[[0.14265465 0.13640761 0.         0.         0.         0.13833393\n",
      "  0.14343153]\n",
      " [0.         0.         0.         0.         0.         0.\n",
      "  0.        ]\n",
      " [0.         0.         0.         0.         0.         0.\n",
      "  0.        ]\n",
      " [0.         0.         0.         0.         0.         0.\n",
      "  0.        ]\n",
      " [0.1405285  0.14092228 0.         0.         0.         0.14636104\n",
      "  0.1465496 ]\n",
      " [0.1394148  0.13468774 0.         0.         0.         0.15358544\n",
      "  0.14589316]\n",
      " [0.12908778 0.15005912 0.         0.         0.         0.15180164\n",
      "  0.14925741]]\n",
      "\n",
      "[[0.14265465 0.13640761 0.         0.         0.         0.\n",
      "  0.14343153]\n",
      " [0.         0.         0.         0.         0.         0.\n",
      "  0.        ]\n",
      " [0.         0.         0.         0.         0.         0.\n",
      "  0.        ]\n",
      " [0.         0.         0.         0.         0.         0.\n",
      "  0.        ]\n",
      " [0.1405285  0.14092228 0.         0.         0.         0.\n",
      "  0.1465496 ]\n",
      " [0.         0.         0.         0.         0.         0.\n",
      "  0.        ]\n",
      " [0.12908778 0.15005912 0.         0.         0.         0.\n",
      "  0.14925741]]\n",
      "\n",
      "[[0.14265465 0.         0.         0.         0.         0.\n",
      "  0.14343153]\n",
      " [0.         0.         0.         0.         0.         0.\n",
      "  0.        ]\n",
      " [0.         0.         0.         0.         0.         0.\n",
      "  0.        ]\n",
      " [0.         0.         0.         0.         0.         0.\n",
      "  0.        ]\n",
      " [0.1405285  0.         0.         0.         0.         0.\n",
      "  0.1465496 ]\n",
      " [0.         0.         0.         0.         0.         0.\n",
      "  0.        ]\n",
      " [0.         0.         0.         0.         0.         0.\n",
      "  0.        ]]\n",
      "\n",
      "[[0.14265465 0.         0.         0.         0.         0.\n",
      "  0.        ]\n",
      " [0.         0.         0.         0.         0.         0.\n",
      "  0.        ]\n",
      " [0.         0.         0.         0.         0.         0.\n",
      "  0.        ]\n",
      " [0.         0.         0.         0.         0.         0.\n",
      "  0.        ]\n",
      " [0.         0.         0.         0.         0.         0.\n",
      "  0.        ]\n",
      " [0.         0.         0.         0.         0.         0.\n",
      "  0.        ]\n",
      " [0.         0.         0.         0.         0.         0.\n",
      "  0.        ]]\n",
      "\n",
      "[[0. 0. 0. 0. 0. 0. 0.]\n",
      " [0. 0. 0. 0. 0. 0. 0.]\n",
      " [0. 0. 0. 0. 0. 0. 0.]\n",
      " [0. 0. 0. 0. 0. 0. 0.]\n",
      " [0. 0. 0. 0. 0. 0. 0.]\n",
      " [0. 0. 0. 0. 0. 0. 0.]\n",
      " [0. 0. 0. 0. 0. 0. 0.]]\n",
      "\n",
      "[0 2 4 3 6 5 1]\n"
     ]
    }
   ],
   "source": [
    "day_cluster_assignment = np.zeros(k,dtype=int)-1\n",
    "for i in range(k):\n",
    "    mx,my = np.unravel_index(np.argmax(cluster_ratios, axis=None), cluster_ratios.shape)\n",
    "    day_cluster_assignment[mx] = my\n",
    "    cluster_ratios[mx] = 0\n",
    "    cluster_ratios[:,my] = 0\n",
    "    print(cluster_ratios)\n",
    "    print()\n",
    "print(day_cluster_assignment)"
   ]
  },
  {
   "cell_type": "code",
   "execution_count": 44,
   "metadata": {},
   "outputs": [
    {
     "data": {
      "text/plain": [
       "(array([1409., 1705., 1814., 1370., 1786., 1722., 1396.]), 11202.0)"
      ]
     },
     "execution_count": 44,
     "metadata": {},
     "output_type": "execute_result"
    }
   ],
   "source": [
    "day_cluster_values[np.arange(k),day_cluster_assignment],np.sum(day_cluster_values[np.arange(k),day_cluster_assignment])"
   ]
  },
  {
   "cell_type": "markdown",
   "metadata": {},
   "source": [
    "## Action"
   ]
  },
  {
   "cell_type": "code",
   "execution_count": null,
   "metadata": {},
   "outputs": [],
   "source": [
    "i = 1\n",
    "while x.getTime() < x.getDay()*1440:\n",
    "    x.sendMove(siteId=i)\n",
    "    x.sendMove(visitTime=240)\n",
    "    i+=1\n",
    "\n"
   ]
  },
  {
   "cell_type": "code",
   "execution_count": null,
   "metadata": {},
   "outputs": [],
   "source": [
    "x.settlement()"
   ]
  }
 ],
 "metadata": {
  "kernelspec": {
   "display_name": "base",
   "language": "python",
   "name": "python3"
  },
  "language_info": {
   "codemirror_mode": {
    "name": "ipython",
    "version": 3
   },
   "file_extension": ".py",
   "mimetype": "text/x-python",
   "name": "python",
   "nbconvert_exporter": "python",
   "pygments_lexer": "ipython3",
   "version": "3.8.5"
  },
  "orig_nbformat": 4
 },
 "nbformat": 4,
 "nbformat_minor": 2
}
